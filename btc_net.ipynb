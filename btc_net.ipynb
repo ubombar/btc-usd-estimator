{
 "nbformat": 4,
 "nbformat_minor": 2,
 "metadata": {
  "language_info": {
   "name": "python",
   "codemirror_mode": {
    "name": "ipython",
    "version": 3
   },
   "version": "3.7.6-final"
  },
  "orig_nbformat": 2,
  "file_extension": ".py",
  "mimetype": "text/x-python",
  "name": "python",
  "npconvert_exporter": "python",
  "pygments_lexer": "ipython3",
  "version": 3,
  "kernelspec": {
   "name": "python37664bitbombarenvconda8c48dded1fee47c68c1985e1902636be",
   "display_name": "Python 3.7.6 64-bit ('bombarenv': conda)"
  }
 },
 "cells": [
  {
   "cell_type": "code",
   "execution_count": 106,
   "metadata": {},
   "outputs": [
    {
     "name": "stdout",
     "output_type": "stream",
     "text": "torch.Size([200, 100, 4])\n"
    }
   ],
   "source": [
    "import torch\n",
    "import torch.nn.functional as F \n",
    "import torch.optim \n",
    "from tqdm import tqdm\n",
    "import numpy as np \n",
    "\n",
    "NUM_OF_DAYS_BEFORE = 100\n",
    "\n",
    "train_data = torch.from_numpy(np.load('BTC-USD/btc-usd-train-data.npy', allow_pickle=True))\n",
    "train_label = torch.from_numpy(np.load('BTC-USD/btc-usd-train-label.npy', allow_pickle=True))\n",
    "\n",
    "test_data = torch.from_numpy(np.load('BTC-USD/btc-usd-test-data.npy', allow_pickle=True))\n",
    "test_label = torch.from_numpy(np.load('BTC-USD/btc-usd-test-label.npy', allow_pickle=True))\n",
    "\n",
    "print(train_data.shape)\n",
    "\n",
    "class Net(torch.nn.Module):\n",
    "    def __init__(self):\n",
    "        super().__init__()\n",
    "        self.fc1 = torch.nn.Linear(4 * NUM_OF_DAYS_BEFORE, 128)\n",
    "        self.fc2 = torch.nn.Linear(128, 89)\n",
    "        self.fc3 = torch.nn.Linear(89, 4)\n",
    "\n",
    "    def forward(self, x):\n",
    "        x = torch.relu(self.fc1(x))\n",
    "        x = torch.relu(self.fc2(x))\n",
    "        return self.fc3(x)"
   ]
  },
  {
   "cell_type": "code",
   "execution_count": 109,
   "metadata": {},
   "outputs": [
    {
     "name": "stderr",
     "output_type": "stream",
     "text": "100%|██████████| 200/200 [03:05<00:00,  1.08it/s]\nCurrent loss is 340.461669921875 in epoch 200\n\n"
    }
   ],
   "source": [
    "net = Net()\n",
    "\n",
    "optimizer = torch.optim.Adam(net.parameters(), lr = 0.001) \n",
    "\n",
    "EPOCH = 200\n",
    "\n",
    "for epoch in tqdm(range(EPOCH)):\n",
    "    for X, y in zip(train_data, train_label):\n",
    "        X = X.view(4 * NUM_OF_DAYS_BEFORE)\n",
    "        y = y.view(4)\n",
    "        out = net(X)\n",
    "\n",
    "        loss = F.l1_loss(out, y)\n",
    "\n",
    "        net.zero_grad()\n",
    "        loss.backward()\n",
    "        optimizer.step()\n",
    "print()\n",
    "print(\"Current loss is\", loss.item(), \"in epoch\", epoch + 1)\n",
    "# torch.save(net, 'xox_net.torch')"
   ]
  },
  {
   "cell_type": "code",
   "execution_count": 127,
   "metadata": {},
   "outputs": [
    {
     "name": "stdout",
     "output_type": "stream",
     "text": "BITCOIN/USD Value Estimator for one day, Deep Neural Network\nReal values:\n \n    Opening Price: 6614.1 USD\n    Closing Price: 6662.9 USD \n    Highest Price: 6696.5 USD \n    Lowest Price:  6591.2 USD\n\nNetwork prediction:\n \n    Opening Price: 6563.1 USD\n    Closing Price: 6560.1 USD \n    Highest Price: 6573.0 USD \n    Lowest Price:  6493.3 USD\n"
    }
   ],
   "source": [
    "\n",
    "index = 0\n",
    "out = net(test_data[index].view(4 * NUM_OF_DAYS_BEFORE))\n",
    "label = test_label[index]\n",
    "\n",
    "print(\"BITCOIN/USD Value Estimator for one day, Deep Neural Network\")\n",
    "print(\"Real values:\")\n",
    "print(\n",
    "''' \n",
    "    Opening Price: {:.1f} USD\n",
    "    Closing Price: {:.1f} USD \n",
    "    Highest Price: {:.1f} USD \n",
    "    Lowest Price:  {:.1f} USD'''.format(label[1].item(), label[0].item(), label[2].item(), label[3].item()))\n",
    "print()\n",
    "print(\"Network prediction:\")\n",
    "print(\n",
    "''' \n",
    "    Opening Price: {:.1f} USD\n",
    "    Closing Price: {:.1f} USD \n",
    "    Highest Price: {:.1f} USD \n",
    "    Lowest Price:  {:.1f} USD'''.format(out[1].item(), out[0].item(), out[2].item(), out[3].item()))\n",
    "\n",
    "\n",
    "# torch.save(net, 'bitcoin.tensor')"
   ]
  },
  {
   "cell_type": "code",
   "execution_count": null,
   "metadata": {},
   "outputs": [],
   "source": []
  },
  {
   "cell_type": "code",
   "execution_count": null,
   "metadata": {},
   "outputs": [],
   "source": []
  }
 ]
}